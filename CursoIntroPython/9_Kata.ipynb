{
 "cells": [
  {
   "cell_type": "markdown",
   "metadata": {},
   "source": [
    "## Ejercicio 1"
   ]
  },
  {
   "cell_type": "code",
   "execution_count": 17,
   "metadata": {},
   "outputs": [
    {
     "name": "stdout",
     "output_type": "stream",
     "text": [
      "#Primer Tanque: 10\n",
      "#SegundoTanque: 10 \n",
      "#Tercer Tanque: 10\n",
      "----------------------------------------\n",
      "El promedio total es 23.33\n",
      "\n",
      "#Primer Tanque: 100\n",
      "#SegundoTanque: 50 \n",
      "#Tercer Tanque: 20\n",
      "----------------------------------------\n",
      "El promedio total es 56.67\n",
      "\n"
     ]
    }
   ],
   "source": [
    "def informes(tanque_uno, tanque_dos, tanque_tres):\n",
    "    promedio = tanque_uno + tanque_dos + tanque_tres / 3\n",
    "    informe = '#Primer Tanque: {tanque_uno}\\n#SegundoTanque: {tanque_dos} \\n#Tercer Tanque: {tanque_tres}\\n' + '-'*40+\"\\n\" + 'El promedio total es {promedio}\\n'\n",
    "    return informe.format(promedio=round(promedio, 2),tanque_uno=tanque_uno, tanque_dos=tanque_dos, tanque_tres=tanque_tres)\n",
    "\n",
    "print(informes(10,10,10))\n",
    "\n",
    "def promedio(datos):\n",
    "    total = sum(datos)\n",
    "    return total / len(datos)\n",
    "\n",
    "def informes(tanque_uno, tanque_dos, tanque_tres):\n",
    "    datos = [tanque_uno, tanque_dos, tanque_tres]\n",
    "    informe = '#Primer Tanque: {tanque_uno}\\n#SegundoTanque: {tanque_dos} \\n#Tercer Tanque: {tanque_tres}\\n' + '-'*40+\"\\n\" + 'El promedio total es {promedio}\\n'\n",
    "    return informe.format(promedio=round(promedio(datos),2), tanque_uno=tanque_uno, tanque_dos=tanque_dos, tanque_tres=tanque_tres)\n",
    "\n",
    "print(informes(100, 50, 20))\n"
   ]
  },
  {
   "cell_type": "markdown",
   "metadata": {},
   "source": [
    "## Ejercicio 2"
   ]
  },
  {
   "cell_type": "code",
   "execution_count": 44,
   "metadata": {},
   "outputs": [
    {
     "name": "stdout",
     "output_type": "stream",
     "text": [
      "#Ruta de Viaje al planeta Venus\n",
      "________________________________________\n",
      "#Combustible restante: 1000 lt\n",
      "#Tiempo hasta nuestro destino: 10 hr\n",
      "\n",
      "--------------------------------------------------\n",
      "\n",
      "#Ruta de Viaje al planeta Venus\n",
      "________________________________________\n",
      "#Tiempo hasta nuestro destino: 1500 hrs\n",
      "#Combustible restante: 30000 lt\n",
      "\tTanque uno: 10000 lt\n",
      "\tTanque dos: 20000 lt\n",
      "\n"
     ]
    }
   ],
   "source": [
    "def informe_cohete(tiempo_destino, combustible, destino):\n",
    "    informe = '#Ruta de Viaje al planeta {destino}\\n' + '_'*40 +'\\n#Combustible restante: {combustible} lt\\n#Tiempo hasta nuestro destino: {tiempo_destino} hr\\n'\n",
    "    return informe.format(tiempo_destino=tiempo_destino, combustible=combustible, destino=destino)\n",
    "\n",
    "print(informe_cohete(10, 1000, 'Venus'))\n",
    "\n",
    "print('-'*50 + \"\\n\")\n",
    "\n",
    "def informe_cohete(destino, *tiempo_destino, **tanques):\n",
    "    informe = '#Ruta de Viaje al planeta {destino}\\n' + '_'*40 +'\\n#Tiempo hasta nuestro destino: {tiempo_destino} hrs\\n' + '#Combustible restante: {combustible} lt\\n'\n",
    "    informe = informe.format(tiempo_destino=sum(tiempo_destino), combustible=sum(tanques.values()), destino=destino)\n",
    "    for nombre, litros in tanques.items():\n",
    "        informe += f\"\\tTanque {nombre}: {litros} lt\\n\"\n",
    "    return informe\n",
    "\n",
    "print(informe_cohete(\"Venus\", 500, 1000, uno=10000, dos=20000))\n"
   ]
  }
 ],
 "metadata": {
  "interpreter": {
   "hash": "2be5faf79681da6f2a61fdfdd5405d65d042280f7fba6178067603e3a2925119"
  },
  "kernelspec": {
   "display_name": "Python 3.10.2 64-bit",
   "language": "python",
   "name": "python3"
  },
  "language_info": {
   "codemirror_mode": {
    "name": "ipython",
    "version": 3
   },
   "file_extension": ".py",
   "mimetype": "text/x-python",
   "name": "python",
   "nbconvert_exporter": "python",
   "pygments_lexer": "ipython3",
   "version": "3.10.2"
  },
  "orig_nbformat": 4
 },
 "nbformat": 4,
 "nbformat_minor": 2
}
