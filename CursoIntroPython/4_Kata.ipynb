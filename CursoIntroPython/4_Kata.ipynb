{
 "cells": [
  {
   "cell_type": "markdown",
   "metadata": {},
   "source": [
    "# Ejercicio 1: Transformar cadenas"
   ]
  },
  {
   "cell_type": "code",
   "execution_count": 34,
   "metadata": {},
   "outputs": [
    {
     "name": "stdout",
     "output_type": "stream",
     "text": [
      "\n",
      "#Primera fase\n",
      "0  -  Interesting facts about the Moon\n",
      "1  -  The Moon is Earth's only satellite\n",
      "2  -  There are several interesting facts about the Moon and how it affects life here on Earth\n",
      "3  -  On average, the Moon moves 4cm away from the Earth every year\n",
      "4  -  This yearly drift is not significant enough to cause immediate effects on Earth\n",
      "5  -  The highest daylight temperature of the Moon is 127 C.\n",
      "\n",
      "#Segunda fase\n",
      "Claves definidas:\n",
      "  average\n",
      "  temperature\n",
      "  distance\n",
      "\n",
      "#Tercera fase\n",
      "Claves encontradas:\n",
      "  average\n",
      "  temperature\n",
      "\n",
      "#Cuarta fase\n",
      "  The highest daylight temperature of the Moon is 127 Celsius\n"
     ]
    }
   ],
   "source": [
    "text = \"\"\"Interesting facts about the Moon. The Moon is Earth's only satellite. There are several interesting facts about the Moon and how it affects life here on Earth. \n",
    "On average, the Moon moves 4cm away from the Earth every year. This yearly drift is not significant enough to cause immediate effects on Earth. The highest daylight temperature of the Moon is 127 C.\"\"\"\n",
    "\n",
    "#Primera fase\n",
    "\n",
    "print(\"\\n#Primera fase\")\n",
    "\n",
    "texto = text.split('\\n')\n",
    "oraciones = \"\".join(texto).split('. ')\n",
    "\n",
    "for i in range(len(oraciones)):\n",
    "    print(i, \" - \", oraciones[i])\n",
    "\n",
    "#Segunda fase\n",
    "\n",
    "print(\"\\n#Segunda fase\")\n",
    "print(\"Claves definidas:\")\n",
    "\n",
    "claves = [\"average\", \"temperature\", \"distance\"]\n",
    "\n",
    "for clave in claves:\n",
    "    print(\" \", clave)\n",
    "\n",
    "#Tercera fase\n",
    "\n",
    "print(\"\\n#Tercera fase\")\n",
    "print(\"Claves encontradas:\")\n",
    "\n",
    "for oracion in oraciones:\n",
    "    for clave in claves:\n",
    "        if (clave in oracion):\n",
    "            print(\" \", clave)\n",
    "\n",
    "#Cuarta fase\n",
    "\n",
    "print(\"\\n#Cuarta fase\")\n",
    "\n",
    "clave = 'C.'\n",
    "\n",
    "for oracion in oraciones:\n",
    "    if (clave in oracion):\n",
    "        print(\" \", oracion.replace(clave, 'Celsius'))\n",
    "        break\n",
    "\n"
   ]
  },
  {
   "cell_type": "markdown",
   "metadata": {},
   "source": [
    "# Ejercicio 2: Formateando Cadenas"
   ]
  },
  {
   "cell_type": "code",
   "execution_count": 74,
   "metadata": {},
   "outputs": [
    {
     "name": "stdout",
     "output_type": "stream",
     "text": [
      "\n",
      " Datos sobre Luna\n",
      "--------------------------------------------------\n",
      "Nombre del planeta: Tierra \n",
      "Gravedad en Luna: 1.62 km/s2\n",
      "\n",
      " Datos sobre Luna\n",
      "--------------------------------------------------\n",
      "Nombre del planeta: Tierra \n",
      "Gravedad en Luna: 1.62 km/s2\n",
      "\n",
      "Datos sobre Ganímedes\n",
      "--------------------------------------------------\n",
      "Nombre del planeta: Marte \n",
      "Gravedad en Ganímedes: 1.43 km/s2\n"
     ]
    }
   ],
   "source": [
    "#Primera Fase\n",
    "planeta = 'Tierra'\n",
    "nombre_luna = 'Luna'\n",
    "gravedad  = 0.00162\n",
    "\n",
    "#Segunda Fase\n",
    "divisor = '-'*50\n",
    "title = f'Datos sobre {nombre_luna}'\n",
    "\n",
    "#Tercera fase\n",
    "datos = f'{divisor}\\nNombre del planeta: {planeta} \\nGravedad en {nombre_luna}: {round(gravedad * 1000, 2)} km/s2'\n",
    "\n",
    "#Cuarta Fase\n",
    "plantilla = f'{title}\\n{datos}'\n",
    "print(\"\\n\", plantilla)\n",
    "\n",
    "#Quinta fase\n",
    "planeta = 'Marte'\n",
    "nombre_luna = 'Ganímedes'\n",
    "gravedad  = 0.00143\n",
    "print(\"\\n\",plantilla)\n",
    "\n",
    "plantilla_dos = '\\nDatos sobre {nombre_luna}\\n{divisor}\\nNombre del planeta: {planeta} \\nGravedad en {nombre_luna}: {gravedad} km/s2'\n",
    "\n",
    "print(plantilla_dos.format(divisor=divisor,planeta=planeta, nombre_luna=nombre_luna, gravedad=round(gravedad * 1000, 2)))\n",
    "\n"
   ]
  }
 ],
 "metadata": {
  "interpreter": {
   "hash": "2be5faf79681da6f2a61fdfdd5405d65d042280f7fba6178067603e3a2925119"
  },
  "kernelspec": {
   "display_name": "Python 3.10.2 64-bit",
   "language": "python",
   "name": "python3"
  },
  "language_info": {
   "codemirror_mode": {
    "name": "ipython",
    "version": 3
   },
   "file_extension": ".py",
   "mimetype": "text/x-python",
   "name": "python",
   "nbconvert_exporter": "python",
   "pygments_lexer": "ipython3",
   "version": "3.10.2"
  },
  "orig_nbformat": 4
 },
 "nbformat": 4,
 "nbformat_minor": 2
}
