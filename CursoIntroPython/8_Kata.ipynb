{
 "cells": [
  {
   "cell_type": "markdown",
   "metadata": {},
   "source": [
    "## Ejercicio 1"
   ]
  },
  {
   "cell_type": "code",
   "execution_count": 2,
   "metadata": {},
   "outputs": [
    {
     "name": "stdout",
     "output_type": "stream",
     "text": [
      "El planeta Mars tiene 2 Lunas\n",
      "Mars tiene una circunferencia porlar de 6752\n",
      "Mars tiene una circunferencia equatorial de 6792\n"
     ]
    }
   ],
   "source": [
    "planet = {\n",
    "    'name': 'Mars'\n",
    "    , 'moons': 2\n",
    "}\n",
    "\n",
    "print(\"El planeta\", planet.get('name'), \"tiene\", planet.get('moons'), \"Lunas\")\n",
    "\n",
    "planet['circumference (km)'] = {\n",
    "    'polar': 6752,\n",
    "    'equatorial': 6792\n",
    "}\n",
    "\n",
    "print(planet['name'], \"tiene una circunferencia porlar de\", planet['circumference (km)']['polar'])\n",
    "print(planet['name'], \"tiene una circunferencia equatorial de\", planet['circumference (km)']['equatorial'])"
   ]
  },
  {
   "cell_type": "markdown",
   "metadata": {},
   "source": [
    "## Ejercicio 2"
   ]
  },
  {
   "cell_type": "code",
   "execution_count": 8,
   "metadata": {},
   "outputs": [
    {
     "name": "stdout",
     "output_type": "stream",
     "text": [
      "Total de lunas con funcion LEN 12\n",
      "Total de lunas con con for 12\n",
      "-----------------------------------\n",
      "1.0  promedio de lunas por planeta\n"
     ]
    }
   ],
   "source": [
    "planet_moons = {\n",
    "    'mercury': 0,\n",
    "    'venus': 0,\n",
    "    'earth': 1,\n",
    "    'mars': 2,\n",
    "    'jupiter': 79,\n",
    "    'saturn': 82,\n",
    "    'uranus': 27,\n",
    "    'neptune': 14,\n",
    "    'pluto': 5,\n",
    "    'haumea': 2,\n",
    "    'makemake': 1,\n",
    "    'eris': 1\n",
    "}\n",
    "\n",
    "planetas = len(planet_moons.keys())\n",
    "lunas = planet_moons.values()\n",
    "\n",
    "tot_lunas = len(planet_moons.keys())\n",
    "\n",
    "tot = 0\n",
    "for luna in lunas:\n",
    "    tot = tot + 1\n",
    "\n",
    "print(\"Total de lunas con funcion LEN\", tot_lunas)\n",
    "print(\"Total de lunas con con for\", tot)\n",
    "\n",
    "promedio = tot_lunas / planetas\n",
    "print('-'*35)\n",
    "print(promedio, \" promedio de lunas por planeta\")\n"
   ]
  }
 ],
 "metadata": {
  "interpreter": {
   "hash": "2be5faf79681da6f2a61fdfdd5405d65d042280f7fba6178067603e3a2925119"
  },
  "kernelspec": {
   "display_name": "Python 3.10.2 64-bit",
   "language": "python",
   "name": "python3"
  },
  "language_info": {
   "codemirror_mode": {
    "name": "ipython",
    "version": 3
   },
   "file_extension": ".py",
   "mimetype": "text/x-python",
   "name": "python",
   "nbconvert_exporter": "python",
   "pygments_lexer": "ipython3",
   "version": "3.10.2"
  },
  "orig_nbformat": 4
 },
 "nbformat": 4,
 "nbformat_minor": 2
}
