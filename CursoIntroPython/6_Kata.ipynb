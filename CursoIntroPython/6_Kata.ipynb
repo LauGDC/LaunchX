{
 "cells": [
  {
   "cell_type": "markdown",
   "metadata": {},
   "source": [
    "## Ejercicio1: Crear y usar listas de Python"
   ]
  },
  {
   "cell_type": "code",
   "execution_count": 11,
   "metadata": {},
   "outputs": [
    {
     "name": "stdout",
     "output_type": "stream",
     "text": [
      "Tenemos un total de  9 planetas\n",
      "\n",
      "El ultimo planeta es:  Pluton \n",
      "\n",
      "Planetas mas cercanos al sol que Pluton :\n",
      "  ['Mercurio', 'Venus', 'Tierra', 'Marte', 'Jupiter', 'Saturno', 'Urano', 'Neptuno'] \n",
      "\n",
      "Planetas mas lejanos al sol que Pluton \n",
      "  []\n"
     ]
    }
   ],
   "source": [
    "planetas = ['Mercurio', 'Venus', 'Tierra', 'Marte', 'Jupiter', 'Saturno', 'Urano', 'Neptuno']\n",
    "\n",
    "nuevo = input(\"¿Cuál es el planeta que desea registrar en la lista? \\nFavor de Iniciar con una letra mayúscula\")\n",
    "\n",
    "planetas.append(nuevo)\n",
    "\n",
    "print(\"Tenemos un total de \", len(planetas), \"planetas\\n\")\n",
    "print(\"El ultimo planeta es: \", planetas[-1], \"\\n\")\n",
    "\n",
    "indice = planetas.index(nuevo)\n",
    "\n",
    "print('Planetas mas cercanos al sol que', planetas[indice], \":\")\n",
    "print(\" \", planetas[0:indice], \"\\n\")\n",
    "\n",
    "print('Planetas mas lejanos al sol que', planetas[indice], \"\")\n",
    "print(\" \", planetas[indice + 1:len(planetas)])"
   ]
  }
 ],
 "metadata": {
  "interpreter": {
   "hash": "2be5faf79681da6f2a61fdfdd5405d65d042280f7fba6178067603e3a2925119"
  },
  "kernelspec": {
   "display_name": "Python 3.10.2 64-bit",
   "language": "python",
   "name": "python3"
  },
  "language_info": {
   "codemirror_mode": {
    "name": "ipython",
    "version": 3
   },
   "file_extension": ".py",
   "mimetype": "text/x-python",
   "name": "python",
   "nbconvert_exporter": "python",
   "pygments_lexer": "ipython3",
   "version": "3.10.2"
  },
  "orig_nbformat": 4
 },
 "nbformat": 4,
 "nbformat_minor": 2
}
