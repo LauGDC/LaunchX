{
 "cells": [
  {
   "cell_type": "markdown",
   "metadata": {},
   "source": [
    "## Ejercicio1 - Utilizar operadores aritméticos"
   ]
  },
  {
   "cell_type": "code",
   "execution_count": 4,
   "metadata": {},
   "outputs": [
    {
     "name": "stdout",
     "output_type": "stream",
     "text": [
      "La distancia entre los planetas es: 628949330  km\n",
      "La distancia entre los planetas es: 390577533.93  mi\n"
     ]
    }
   ],
   "source": [
    "#Primera Fase\n",
    "\n",
    "planeta_x = 149597870\n",
    "planeta_y = 778547200\n",
    "\n",
    "distancia =  planeta_y - planeta_x\n",
    "\n",
    "print(\"La distancia entre los planetas es:\", distancia, \" km\")\n",
    "print(\"La distancia entre los planetas es:\", round(distancia*0.621, 2), \" mi\")\n",
    "\n"
   ]
  },
  {
   "cell_type": "markdown",
   "metadata": {},
   "source": [
    "## Ejercicio 2: convierte cadenas en números y usa valores absolutos"
   ]
  },
  {
   "cell_type": "code",
   "execution_count": 6,
   "metadata": {},
   "outputs": [
    {
     "name": "stdout",
     "output_type": "stream",
     "text": [
      "La distancia entre los planetas es:  105570000  mi\n"
     ]
    }
   ],
   "source": [
    "planeta_x = int(input(\"¿Cuál es la distancia del primer planeta al sol?\"))\n",
    "planeta_y = int(input(\"¿Cuál es la distancia del segundo planeta al sol?\"))\n",
    "\n",
    "distancia = abs(round((planeta_x - planeta_y) * 0.621))\n",
    "\n",
    "print(\"La distancia es: \", distancia, \" mi\")"
   ]
  }
 ],
 "metadata": {
  "interpreter": {
   "hash": "2be5faf79681da6f2a61fdfdd5405d65d042280f7fba6178067603e3a2925119"
  },
  "kernelspec": {
   "display_name": "Python 3.10.2 64-bit",
   "language": "python",
   "name": "python3"
  },
  "language_info": {
   "codemirror_mode": {
    "name": "ipython",
    "version": 3
   },
   "file_extension": ".py",
   "mimetype": "text/x-python",
   "name": "python",
   "nbconvert_exporter": "python",
   "pygments_lexer": "ipython3",
   "version": "3.10.2"
  },
  "orig_nbformat": 4
 },
 "nbformat": 4,
 "nbformat_minor": 2
}
