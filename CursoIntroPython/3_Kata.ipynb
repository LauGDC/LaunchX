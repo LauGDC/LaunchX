{
 "cells": [
  {
   "cell_type": "markdown",
   "metadata": {},
   "source": [
    "# Ejercicios `if`, `else`, y `elif`\n",
    "\n",
    "Ejercicio 1"
   ]
  },
  {
   "cell_type": "code",
   "execution_count": 3,
   "metadata": {},
   "outputs": [
    {
     "name": "stdout",
     "output_type": "stream",
     "text": [
      "Advertencia! Un asteroide se acerca!\n"
     ]
    }
   ],
   "source": [
    "velocidad_asteroide = 26\n",
    "if (velocidad_asteroide > 25):\n",
    "    print('Advertencia! Un asteroide se acerca!')\n",
    "else:\n",
    "    print('Todo tranquilo!')"
   ]
  },
  {
   "cell_type": "markdown",
   "metadata": {},
   "source": [
    "Ejercicio 2"
   ]
  },
  {
   "cell_type": "code",
   "execution_count": 14,
   "metadata": {},
   "outputs": [
    {
     "name": "stdout",
     "output_type": "stream",
     "text": [
      "Es un ovni, un avión, no… \n",
      "Es una luz en el cielo, mira arriba!!\n"
     ]
    }
   ],
   "source": [
    "velocidad_asteroide = 28\n",
    "if velocidad_asteroide >= 20:\n",
    "    print('Es un ovni, un avión, no… \\nEs una luz en el cielo, mira arriba!!')\n",
    "else:\n",
    "    print('Todo tranquilo!')"
   ]
  },
  {
   "cell_type": "markdown",
   "metadata": {},
   "source": [
    "# Ejercicio `and` y `or`"
   ]
  },
  {
   "cell_type": "code",
   "execution_count": 12,
   "metadata": {},
   "outputs": [
    {
     "name": "stdout",
     "output_type": "stream",
     "text": [
      "Advertencia! El asteroide es demasiado grande, Extensión inminente!\n"
     ]
    }
   ],
   "source": [
    "velocidad_asteroide = 26\n",
    "dimension_asteroide = 1050\n",
    "if dimension_asteroide > 1000 and velocidad_asteroide > 25:\n",
    "    print(\"Advertencia! El asteroide es demasiado grande, Extensión inminente!\")\n",
    "elif dimension_asteroide > 25 and velocidad_asteroide > 25:\n",
    "    print(\"Advertencia! El asteroide golpeara la tierra, Algunos viviran!\")\n",
    "elif velocidad_asteroide >= 20:\n",
    "    print('Es un ovni, un avión, no… \\nEs una luz en el cielo, mira arriba!!')\n",
    "elif dimension_asteroide < 25:\n",
    "    print('Todo tranquilo!')\n"
   ]
  }
 ],
 "metadata": {
  "interpreter": {
   "hash": "2be5faf79681da6f2a61fdfdd5405d65d042280f7fba6178067603e3a2925119"
  },
  "kernelspec": {
   "display_name": "Python 3.10.2 64-bit",
   "language": "python",
   "name": "python3"
  },
  "language_info": {
   "codemirror_mode": {
    "name": "ipython",
    "version": 3
   },
   "file_extension": ".py",
   "mimetype": "text/x-python",
   "name": "python",
   "nbconvert_exporter": "python",
   "pygments_lexer": "ipython3",
   "version": "3.10.2"
  },
  "orig_nbformat": 4
 },
 "nbformat": 4,
 "nbformat_minor": 2
}
